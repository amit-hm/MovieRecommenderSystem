{
 "cells": [
  {
   "cell_type": "markdown",
   "metadata": {},
   "source": [
    "# Importing libraries"
   ]
  },
  {
   "cell_type": "code",
   "execution_count": 1,
   "metadata": {},
   "outputs": [],
   "source": [
    "import numpy as np\n",
    "import time\n",
    "from matplotlib import pyplot as plt"
   ]
  },
  {
   "cell_type": "markdown",
   "metadata": {},
   "source": [
    "# Initialization"
   ]
  },
  {
   "cell_type": "code",
   "execution_count": 2,
   "metadata": {},
   "outputs": [],
   "source": [
    "iterations = 40\n",
    "k = 20\n",
    "regularization_factor = 0.1     #lambda\n",
    "learning_rate= 0.01\n",
    "data_path = \"ratings.csv\""
   ]
  },
  {
   "cell_type": "markdown",
   "metadata": {},
   "source": [
    "### Plot Function"
   ]
  },
  {
   "cell_type": "code",
   "execution_count": 3,
   "metadata": {},
   "outputs": [],
   "source": [
    "def plot_error(error,title,xlabel,ylabel):\n",
    "    fig = plt.figure(figsize=(14,8))\n",
    "    plt.gca().set_xticks(list(range(1,len(error)+1)))\n",
    "    plt.plot(list(range(1,len(error)+1)),error)\n",
    "    fig.suptitle(title, fontsize=20)\n",
    "    plt.xlabel(xlabel,fontsize=18)\n",
    "    plt.ylabel(ylabel,fontsize=18)\n",
    "    plt.show()"
   ]
  },
  {
   "cell_type": "markdown",
   "metadata": {},
   "source": [
    "# Latent Factor Recommender"
   ]
  },
  {
   "cell_type": "code",
   "execution_count": 4,
   "metadata": {},
   "outputs": [],
   "source": [
    "def latent_factor_recommnder(data_path, regularization_factor, learning_rate, iterations, k):\n",
    "    \n",
    "    P = np.random.uniform(low=0, high=np.sqrt(5/k), size=(1,k))    # For movies\n",
    "    Q = np.random.uniform(low=0, high=np.sqrt(5/k), size=(1,k))    # For users\n",
    "\n",
    "    error_list = []\n",
    "    for i in range(iterations):\n",
    "        with open(data_path) as f:\n",
    "            for line in f:\n",
    "                line = np.fromstring(line,dtype=int,sep=',')\n",
    "\n",
    "                movie_id = line[0]\n",
    "                user_id = line[1]\n",
    "                rating = line[2]\n",
    "\n",
    "                if (movie_id+1 > P.shape[0]):\n",
    "                    P = np.append(P, np.random.uniform(low=0, high=np.sqrt(5/k), size=(movie_id+1-P.shape[0],k)), axis = 0)\n",
    "\n",
    "                if (user_id+1 > Q.shape[0]):\n",
    "                    Q = np.append(Q, np.random.uniform(low=0, high=np.sqrt(5/k), size=(user_id+1-Q.shape[0],k)), axis = 0)\n",
    "\n",
    "                # derivative of error\n",
    "                err_der = 2*(rating - np.dot(np.array([Q[user_id]]),  np.array([P[movie_id]]).T)[0][0])\n",
    "\n",
    "                # updating q and p\n",
    "                q = Q[user_id] + learning_rate * (err_der*P[movie_id] - 2*regularization_factor*Q[user_id])\n",
    "\n",
    "                p = P[movie_id] + learning_rate * (err_der*Q[user_id] - 2*regularization_factor*P[movie_id])\n",
    "\n",
    "                Q[user_id] = q\n",
    "                P[movie_id] = p            \n",
    "\n",
    "        # predicting ratings\n",
    "        R_pred = np.dot(P,Q.T)\n",
    "\n",
    "        # Calculating error\n",
    "        E1 = 0\n",
    "        with open(data_path) as f:\n",
    "            for line in f:\n",
    "                line = np.fromstring(line,dtype=int,sep=',')\n",
    "\n",
    "                movie_id = line[0]\n",
    "                user_id = line[1]\n",
    "                rating = line[2]\n",
    "\n",
    "                E1 = E1 + np.square(rating - R_pred[movie_id, user_id])\n",
    "\n",
    "        p_norm = np.sum(np.square(np.linalg.norm(P,ord=2,axis=1)))\n",
    "        q_norm = np.sum(np.square(np.linalg.norm(Q,ord=2,axis=1)))\n",
    "\n",
    "        error = E1 + regularization_factor * (p_norm + q_norm)\n",
    "\n",
    "        error_list.append(error)\n",
    "\n",
    "        print(\"Iteration \",i,\" : \",error)\n",
    "        \n",
    "    return [error_list, P, Q]"
   ]
  },
  {
   "cell_type": "code",
   "execution_count": 5,
   "metadata": {
    "scrolled": true
   },
   "outputs": [
    {
     "name": "stdout",
     "output_type": "stream",
     "text": [
      "Iteration  0  :  173391.88561156465\n",
      "Iteration  1  :  95746.73354537481\n",
      "Iteration  2  :  90401.64311154616\n",
      "Iteration  3  :  87892.45865082718\n",
      "Iteration  4  :  86115.98429652397\n",
      "Iteration  5  :  84558.08655965482\n",
      "Iteration  6  :  83012.5545990584\n",
      "Iteration  7  :  81381.41608630578\n",
      "Iteration  8  :  79631.83494693191\n",
      "Iteration  9  :  77781.78325416858\n",
      "Iteration  10  :  75879.16675912015\n",
      "Iteration  11  :  73975.44273057388\n",
      "Iteration  12  :  72109.7072271088\n",
      "Iteration  13  :  70307.28895718559\n",
      "Iteration  14  :  68584.26404545695\n",
      "Iteration  15  :  66951.05903214528\n",
      "Iteration  16  :  65414.00515086995\n",
      "Iteration  17  :  63975.91138771882\n",
      "Iteration  18  :  62636.5241350414\n",
      "Iteration  19  :  61393.14453893221\n",
      "Iteration  20  :  60241.342094670195\n",
      "Iteration  21  :  59175.629014307524\n",
      "Iteration  22  :  58190.00587765346\n",
      "Iteration  23  :  57278.353562000855\n",
      "Iteration  24  :  56434.6882762758\n",
      "Iteration  25  :  55653.3124292851\n",
      "Iteration  26  :  54928.89382614044\n",
      "Iteration  27  :  54256.49888726809\n",
      "Iteration  28  :  53631.59788075813\n",
      "Iteration  29  :  53050.0538693709\n",
      "Iteration  30  :  52508.102648457425\n",
      "Iteration  31  :  52002.32809009612\n",
      "Iteration  32  :  51529.63554876006\n",
      "Iteration  33  :  51087.224928027616\n",
      "Iteration  34  :  50672.56437651476\n",
      "Iteration  35  :  50283.365196670515\n",
      "Iteration  36  :  49917.558307108244\n",
      "Iteration  37  :  49573.27243868174\n",
      "Iteration  38  :  49248.81413462936\n",
      "Iteration  39  :  48942.6495486605\n"
     ]
    }
   ],
   "source": [
    "recommender_list = latent_factor_recommnder(data_path, regularization_factor, learning_rate, iterations, k)"
   ]
  },
  {
   "cell_type": "code",
   "execution_count": 6,
   "metadata": {},
   "outputs": [],
   "source": [
    "Error_list = recommender_list[0]\n",
    "P = recommender_list[1]\n",
    "Q = recommender_list[2]"
   ]
  },
  {
   "cell_type": "code",
   "execution_count": 7,
   "metadata": {},
   "outputs": [
    {
     "data": {
      "image/png": "[encoded data removed]",
      "text/plain": [
       "<Figure size 1008x576 with 1 Axes>"
      ]
     },
     "metadata": {
      "needs_background": "light"
     },
     "output_type": "display_data"
    }
   ],
   "source": [
    "plot_error(Error_list,\"Error vs Iterations (learning rate = \"+str(learning_rate)+\")\",\"Iterations\",\"Error\")"
   ]
  },
  {
   "cell_type": "markdown",
   "metadata": {},
   "source": [
    "# Recommending for a User"
   ]
  },
  {
   "cell_type": "code",
   "execution_count": 14,
   "metadata": {},
   "outputs": [],
   "source": [
    "user_id = 13\n",
    "movie_id = 10"
   ]
  },
  {
   "cell_type": "code",
   "execution_count": 16,
   "metadata": {},
   "outputs": [
    {
     "name": "stdout",
     "output_type": "stream",
     "text": [
      "The recommendation for the user  13 for movie  10 is:  4\n"
     ]
    }
   ],
   "source": [
    "recommendation = int(np.dot(P[user_id],Q[movie_id].T))\n",
    "print(\"The recommendation for the user \",user_id,\"for movie \",movie_id,\"is: \", recommendation)"
   ]
  },
  {
   "cell_type": "code",
   "execution_count": null,
   "metadata": {},
   "outputs": [],
   "source": []
  }
 ],
 "metadata": {
  "kernelspec": {
   "display_name": "Python 3",
   "language": "python",
   "name": "python3"
  },
  "language_info": {
   "codemirror_mode": {
    "name": "ipython",
    "version": 3
   },
   "file_extension": ".py",
   "mimetype": "text/x-python",
   "name": "python",
   "nbconvert_exporter": "python",
   "pygments_lexer": "ipython3",
   "version": "3.7.3"
  }
 },
 "nbformat": 4,
 "nbformat_minor": 2
}
