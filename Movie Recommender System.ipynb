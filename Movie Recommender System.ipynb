{
 "cells": [
  {
   "cell_type": "markdown",
   "metadata": {},
   "source": [
    "# Importing libraries"
   ]
  },
  {
   "cell_type": "code",
   "execution_count": null,
   "metadata": {},
   "outputs": [],
   "source": [
    "import numpy as np\n",
    "import time\n",
    "from matplotlib import pyplot as plt"
   ]
  },
  {
   "cell_type": "markdown",
   "metadata": {},
   "source": [
    "# Initialization"
   ]
  },
  {
   "cell_type": "code",
   "execution_count": 2,
   "metadata": {},
   "outputs": [],
   "source": [
    "iterations = 40\n",
    "k = 20\n",
    "regularization_factor = 0.1     #lambda\n",
    "learning_rate= 0.01\n",
    "data_path = \"Put your input File Path\""
   ]
  },
  {
   "cell_type": "markdown",
   "metadata": {},
   "source": [
    "### Plot Function"
   ]
  },
  {
   "cell_type": "code",
   "execution_count": 3,
   "metadata": {},
   "outputs": [],
   "source": [
    "def plot_error(error,title,xlabel,ylabel):\n",
    "    fig = plt.figure(figsize=(14,8))\n",
    "    plt.gca().set_xticks(list(range(1,len(error)+1)))\n",
    "    plt.plot(list(range(1,len(error)+1)),error)\n",
    "    fig.suptitle(title, fontsize=20)\n",
    "    plt.xlabel(xlabel,fontsize=18)\n",
    "    plt.ylabel(ylabel,fontsize=18)\n",
    "    plt.show()"
   ]
  },
  {
   "cell_type": "markdown",
   "metadata": {},
   "source": [
    "# Latent Factor Recommender"
   ]
  },
  {
   "cell_type": "code",
   "execution_count": 4,
   "metadata": {},
   "outputs": [],
   "source": [
    "def latent_factor_recommnder(data_path, regularization_factor, learning_rate, iterations, k):\n",
    "    \n",
    "    P = np.random.uniform(low=0, high=np.sqrt(5/k), size=(1,k))    # For movies\n",
    "    Q = np.random.uniform(low=0, high=np.sqrt(5/k), size=(1,k))    # For users\n",
    "\n",
    "    error_list = []\n",
    "    for i in range(iterations):\n",
    "        with open(data_path) as f:\n",
    "            for line in f:\n",
    "                line = np.fromstring(line,dtype=int,sep=',')\n",
    "\n",
    "                movie_id = line[0]\n",
    "                user_id = line[1]\n",
    "                rating = line[2]\n",
    "\n",
    "                if (movie_id+1 > P.shape[0]):\n",
    "                    P = np.append(P, np.random.uniform(low=0, high=np.sqrt(5/k), size=(movie_id+1-P.shape[0],k)), axis = 0)\n",
    "\n",
    "                if (user_id+1 > Q.shape[0]):\n",
    "                    Q = np.append(Q, np.random.uniform(low=0, high=np.sqrt(5/k), size=(user_id+1-Q.shape[0],k)), axis = 0)\n",
    "\n",
    "                # derivative of error\n",
    "                err_der = 2*(rating - np.dot(np.array([Q[user_id]]),  np.array([P[movie_id]]).T)[0][0])\n",
    "\n",
    "                # updating q and p\n",
    "                q = Q[user_id] + learning_rate * (err_der*P[movie_id] - 2*regularization_factor*Q[user_id])\n",
    "\n",
    "                p = P[movie_id] + learning_rate * (err_der*Q[user_id] - 2*regularization_factor*P[movie_id])\n",
    "\n",
    "                Q[user_id] = q\n",
    "                P[movie_id] = p            \n",
    "\n",
    "        # predicting ratings\n",
    "        R_pred = np.dot(P,Q.T)\n",
    "\n",
    "        # Calculating error\n",
    "        E1 = 0\n",
    "        with open(data_path) as f:\n",
    "            for line in f:\n",
    "                line = np.fromstring(line,dtype=int,sep=',')\n",
    "\n",
    "                movie_id = line[0]\n",
    "                user_id = line[1]\n",
    "                rating = line[2]\n",
    "\n",
    "                E1 = E1 + np.square(rating - R_pred[movie_id, user_id])\n",
    "\n",
    "        p_norm = np.sum(np.square(np.linalg.norm(P,ord=2,axis=1)))\n",
    "        q_norm = np.sum(np.square(np.linalg.norm(Q,ord=2,axis=1)))\n",
    "\n",
    "        error = E1 + regularization_factor * (p_norm + q_norm)\n",
    "\n",
    "        error_list.append(error)\n",
    "\n",
    "        print(\"Iteration \",i,\" : \",error)\n",
    "        \n",
    "    return error_list"
   ]
  },
  {
   "cell_type": "code",
   "execution_count": 5,
   "metadata": {
    "scrolled": true
   },
   "outputs": [
    {
     "name": "stdout",
     "output_type": "stream",
     "text": [
      "Iteration  0  :  178108.93098515293\n",
      "Iteration  1  :  96727.48225135132\n",
      "Iteration  2  :  91063.66422106678\n",
      "Iteration  3  :  88407.6066015003\n",
      "Iteration  4  :  86548.58330472797\n",
      "Iteration  5  :  84948.8344059131\n",
      "Iteration  6  :  83393.76386407533\n",
      "Iteration  7  :  81775.84691877672\n",
      "Iteration  8  :  80043.30403456689\n",
      "Iteration  9  :  78187.92665459617\n",
      "Iteration  10  :  76238.68208843253\n",
      "Iteration  11  :  74248.3463834351\n",
      "Iteration  12  :  72274.23331920263\n",
      "Iteration  13  :  70362.79659457586\n",
      "Iteration  14  :  68544.23034192694\n",
      "Iteration  15  :  66834.5444977567\n",
      "Iteration  16  :  65239.87264870926\n",
      "Iteration  17  :  63760.13781512228\n",
      "Iteration  18  :  62391.540681526385\n",
      "Iteration  19  :  61128.15814142046\n",
      "Iteration  20  :  59962.97596782376\n",
      "Iteration  21  :  58888.56014424595\n",
      "Iteration  22  :  57897.48611524152\n",
      "Iteration  23  :  56982.60152654067\n",
      "Iteration  24  :  56137.175162785\n",
      "Iteration  25  :  55354.970160321725\n",
      "Iteration  26  :  54630.26858682795\n",
      "Iteration  27  :  53957.866010788224\n",
      "Iteration  28  :  53333.048447025394\n",
      "Iteration  29  :  52751.559729681205\n",
      "Iteration  30  :  52209.564475664\n",
      "Iteration  31  :  51703.6099089785\n",
      "Iteration  32  :  51230.58856859191\n",
      "Iteration  33  :  50787.7030875144\n",
      "Iteration  34  :  50372.43366831176\n",
      "Iteration  35  :  49982.50850625619\n",
      "Iteration  36  :  49615.87717180279\n",
      "Iteration  37  :  49270.68682049152\n",
      "Iteration  38  :  48945.261021430066\n",
      "Iteration  39  :  48638.080962582564\n"
     ]
    }
   ],
   "source": [
    "Error_list = latent_factor_recommnder(data_path, regularization_factor, learning_rate, iterations, k)"
   ]
  },
  {
   "cell_type": "code",
   "execution_count": 6,
   "metadata": {},
   "outputs": [
    {
     "data": {
      "image/png": "[encoded data removed]",
      "text/plain": [
       "<Figure size 1008x576 with 1 Axes>"
      ]
     },
     "metadata": {
      "needs_background": "light"
     },
     "output_type": "display_data"
    }
   ],
   "source": [
    "plot_error(Error_list,\"Error vs Iterations (learning rate = \"+str(learning_rate)+\")\",\"Iterations\",\"Error\")"
   ]
  },
  {
   "cell_type": "code",
   "execution_count": null,
   "metadata": {},
   "outputs": [],
   "source": []
  }
 ],
 "metadata": {
  "kernelspec": {
   "display_name": "Python 3",
   "language": "python",
   "name": "python3"
  },
  "language_info": {
   "codemirror_mode": {
    "name": "ipython",
    "version": 3
   },
   "file_extension": ".py",
   "mimetype": "text/x-python",
   "name": "python",
   "nbconvert_exporter": "python",
   "pygments_lexer": "ipython3",
   "version": "3.7.3"
  }
 },
 "nbformat": 4,
 "nbformat_minor": 2
}
